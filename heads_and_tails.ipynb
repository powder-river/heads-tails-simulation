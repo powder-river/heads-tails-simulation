{
 "cells": [
  {
   "cell_type": "code",
   "execution_count": 9,
   "metadata": {
    "collapsed": true
   },
   "outputs": [],
   "source": [
    "import random\n",
    "import math\n",
    "import statistics as stats\n",
    "import matplotlib.pyplot as plt"
   ]
  },
  {
   "cell_type": "code",
   "execution_count": 2,
   "metadata": {
    "collapsed": true
   },
   "outputs": [],
   "source": [
    "%matplotlib inline"
   ]
  },
  {
   "cell_type": "code",
   "execution_count": 3,
   "metadata": {
    "collapsed": false
   },
   "outputs": [
    {
     "data": {
      "text/plain": [
       "([<matplotlib.axis.XTick at 0x1067339e8>,\n",
       "  <matplotlib.axis.XTick at 0x106733e48>,\n",
       "  <matplotlib.axis.XTick at 0x10672c940>,\n",
       "  <matplotlib.axis.XTick at 0x10677b828>,\n",
       "  <matplotlib.axis.XTick at 0x106785278>],\n",
       " <a list of 5 Text xticklabel objects>)"
      ]
     },
     "execution_count": 3,
     "metadata": {},
     "output_type": "execute_result"
    },
    {
     "data": {
      "image/png": "[encoded data removed]",
      "text/plain": [
       "<matplotlib.figure.Figure at 0x106711208>"
      ]
     },
     "metadata": {},
     "output_type": "display_data"
    }
   ],
   "source": [
    "x1 = ['2014 Q1','2014 Q2','2014 Q3','2014 Q4','2015 Q1']\n",
    "y1 = [400,700,1200,600,2000]\n",
    "\n",
    "plt.plot(y1)\n",
    "plt.xlabel('Quarter')\n",
    "plt.ylabel('Cash Mo\\'Nay')\n",
    "plt.xticks(range(5),x1)\n"
   ]
  },
  {
   "cell_type": "code",
   "execution_count": 31,
   "metadata": {
    "collapsed": false
   },
   "outputs": [],
   "source": [
    "def flip_coin():\n",
    "    coin = random.randint(1,2)\n",
    "    if coin == 2:\n",
    "        \n",
    "        return \"H\"\n",
    "    else:\n",
    "        return \"T\"\n",
    "    "
   ]
  },
  {
   "cell_type": "code",
   "execution_count": 58,
   "metadata": {
    "collapsed": false
   },
   "outputs": [],
   "source": [
    "def many_flips(num):\n",
    "    h_count = 0\n",
    "    t_count = 0\n",
    "    h_list = []\n",
    "    t_list = []\n",
    "    for _ in range(0,num):\n",
    "        if flip_coin() == \"T\":\n",
    "            t_count += 1\n",
    "        else:\n",
    "            h_count += 1\n",
    "        h_list.append(h_count)\n",
    "        t_list.append(t_count)\n",
    "        \n",
    "    return {'heads':h_count, 'tails':t_count, 'heads-list':h_list,'tails list':t_list}\n",
    "        \n",
    "    "
   ]
  },
  {
   "cell_type": "code",
   "execution_count": null,
   "metadata": {
    "collapsed": false
   },
   "outputs": [],
   "source": [
    "def h_t_difference(coin_hash):\n",
    "    diff = [heads - tails for heads, tails in zip(coin_hash['heads-list'],coin_hash['tails list'])]\n",
    "    return diff"
   ]
  },
  {
   "cell_type": "code",
   "execution_count": 72,
   "metadata": {
    "collapsed": false
   },
   "outputs": [
    {
     "name": "stdout",
     "output_type": "stream",
     "text": [
      "[1, 2, 1, 0, 1, 2, 1, 2, 3, 2, 1, 0, 1, 0, 1, 0, -1, 0, -1, 0, 1, 0, 1, 0, 1, 2, 3, 4, 5, 4, 5, 6, 5, 6, 5, 6, 7, 6, 5, 4, 5, 6, 5, 6, 7, 8, 9, 10, 9, 8]\n"
     ]
    }
   ],
   "source": [
    "difference_list = h_t_difference(many_flips(50))\n",
    "print(difference_list)"
   ]
  },
  {
   "cell_type": "code",
   "execution_count": 73,
   "metadata": {
    "collapsed": false
   },
   "outputs": [
    {
     "data": {
      "text/plain": [
       "[<matplotlib.lines.Line2D at 0x106ba4198>]"
      ]
     },
     "execution_count": 73,
     "metadata": {},
     "output_type": "execute_result"
    },
    {
     "data": {
      "image/png": "[encoded data removed]",
      "text/plain": [
       "<matplotlib.figure.Figure at 0x106afed68>"
      ]
     },
     "metadata": {},
     "output_type": "display_data"
    }
   ],
   "source": [
    "plt.plot(difference_list)"
   ]
  },
  {
   "cell_type": "code",
   "execution_count": null,
   "metadata": {
    "collapsed": true
   },
   "outputs": [],
   "source": []
  }
 ],
 "metadata": {
  "kernelspec": {
   "display_name": "Python 3",
   "language": "python",
   "name": "python3"
  },
  "language_info": {
   "codemirror_mode": {
    "name": "ipython",
    "version": 3
   },
   "file_extension": ".py",
   "mimetype": "text/x-python",
   "name": "python",
   "nbconvert_exporter": "python",
   "pygments_lexer": "ipython3",
   "version": "3.4.3"
  }
 },
 "nbformat": 4,
 "nbformat_minor": 0
}
